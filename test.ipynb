{
 "cells": [
  {
   "cell_type": "code",
   "execution_count": null,
   "metadata": {},
   "outputs": [
    {
     "name": "stdout",
     "output_type": "stream",
     "text": [
      "f:\\crewai_content_generation\\test2.json\n"
     ]
    },
    {
     "ename": "TypeError",
     "evalue": "_GenerativeModel.__init__() got an unexpected keyword argument 'credentials'",
     "output_type": "error",
     "traceback": [
      "\u001b[1;31m---------------------------------------------------------------------------\u001b[0m",
      "\u001b[1;31mTypeError\u001b[0m                                 Traceback (most recent call last)",
      "Cell \u001b[1;32mIn[4], line 29\u001b[0m\n\u001b[0;32m     19\u001b[0m credentials \u001b[38;5;241m=\u001b[39m service_account\u001b[38;5;241m.\u001b[39mCredentials\u001b[38;5;241m.\u001b[39mfrom_service_account_file(service_acc_filepath)\n\u001b[0;32m     21\u001b[0m \u001b[38;5;66;03m# Initialize Vertex AI\u001b[39;00m\n\u001b[0;32m     22\u001b[0m \u001b[38;5;66;03m# aiplatform.init(\u001b[39;00m\n\u001b[0;32m     23\u001b[0m \u001b[38;5;66;03m#     project=PROJECT_ID,\u001b[39;00m\n\u001b[1;32m   (...)\u001b[0m\n\u001b[0;32m     27\u001b[0m \n\u001b[0;32m     28\u001b[0m \u001b[38;5;66;03m# Load the Gemini model (e.g., 1.5 flash or pro)\u001b[39;00m\n\u001b[1;32m---> 29\u001b[0m model \u001b[38;5;241m=\u001b[39m \u001b[43mGenerativeModel\u001b[49m\u001b[43m(\u001b[49m\u001b[38;5;124;43m\"\u001b[39;49m\u001b[38;5;124;43mgemini-2.0-flash-001\u001b[39;49m\u001b[38;5;124;43m\"\u001b[39;49m\u001b[43m,\u001b[49m\u001b[43mcredentials\u001b[49m\u001b[38;5;241;43m=\u001b[39;49m\u001b[43mcredentials\u001b[49m\u001b[43m)\u001b[49m\n\u001b[0;32m     31\u001b[0m \u001b[38;5;66;03m# Generate content\u001b[39;00m\n\u001b[0;32m     32\u001b[0m response \u001b[38;5;241m=\u001b[39m model\u001b[38;5;241m.\u001b[39mgenerate_content(\u001b[38;5;124m\"\u001b[39m\u001b[38;5;124mExplain how a rocket works.\u001b[39m\u001b[38;5;124m\"\u001b[39m)\n",
      "\u001b[1;31mTypeError\u001b[0m: _GenerativeModel.__init__() got an unexpected keyword argument 'credentials'"
     ]
    }
   ],
   "source": [
    "from google.oauth2 import service_account\n",
    "from google.cloud import aiplatform\n",
    "from vertexai.preview.generative_models import GenerativeModel # type: ignore\n",
    "import os\n",
    "from pathlib import Path\n",
    "\n",
    "base_path = os.getcwd()\n",
    "service_acc_filepath = Path(base_path, \"test2.json\")\n",
    "\n",
    "# Your GCP project and location\n",
    "PROJECT_ID = \"theta-ember-457206-d5\"\n",
    "REGION = \"us-central1\"  # Gemini is only in this region for now\n",
    "\n",
    "# Load credentials from service account\n",
    "credentials = service_account.Credentials.from_service_account_file(service_acc_filepath)\n",
    "\n",
    "# Initialize Vertex AI\n",
    "# aiplatform.init(\n",
    "#     project=PROJECT_ID,\n",
    "#     location=REGION,\n",
    "#     credentials=credentials,\n",
    "# )\n",
    "\n",
    "# Load the Gemini model (e.g., 1.5 flash or pro)\n",
    "model = GenerativeModel(\"gemini-2.0-flash-001\",credentials=credentials)\n",
    "\n",
    "# Generate content\n",
    "response = model.generate_content(\"Explain how a rocket works.\")\n",
    "print(response.text)\n"
   ]
  },
  {
   "cell_type": "code",
   "execution_count": 13,
   "metadata": {},
   "outputs": [
    {
     "name": "stdout",
     "output_type": "stream",
     "text": [
      "Okay, let's break down how AI (Artificial Intelligence) works. It's a broad field, so I'll cover the main concepts and components.  Think of it like building a really smart, automated system.\n",
      "\n",
      "**The Core Idea:  Making Machines Think (or at Least Act Like They Do)**\n",
      "\n",
      "At its heart, AI aims to create machines that can perform tasks that typically require human intelligence. These tasks include:\n",
      "\n",
      "*   **Learning:** Acquiring information and rules.\n",
      "*   **Reasoning:** Using logic and inference to draw conclusions.\n",
      "*   **Problem-solving:** Finding solutions to complex situations.\n",
      "*   **Perception:** Understanding sensory input (e.g., images, sound, text).\n",
      "*   **Natural Language Understanding:**  Comprehending and generating human language.\n",
      "\n",
      "**Key Components & Approaches**\n",
      "\n",
      "AI isn't one single technology; it's a collection of techniques.  Here are some of the most important:\n",
      "\n",
      "1.  **Machine Learning (ML):**  This is the most common and fastest-growing area of AI.  Instead of being explicitly programmed with rules, machines *learn from data*.  Think of it like training a dog: you show it examples, give rewards for good behavior, and it gradually learns to associate actions with outcomes.\n",
      "\n",
      "    *   **How it Works:**\n",
      "        *   **Data:** ML algorithms need lots of data to learn patterns. This data can be anything: images, text, numbers, audio, etc.\n",
      "        *   **Algorithms:**  Different algorithms are used depending on the type of problem. Some common ones include:\n",
      "            *   **Supervised Learning:** The algorithm is trained on labeled data (e.g., images of cats labeled \"cat\"). It learns to predict the label for new, unseen data.  Examples: image recognition, spam filtering.\n",
      "            *   **Unsupervised Learning:** The algorithm is given unlabeled data and tries to find patterns and structure on its own.  Examples: customer segmentation, anomaly detection.\n",
      "            *   **Reinforcement Learning:**  The algorithm learns by interacting with an environment and receiving rewards or penalties for its actions.  Examples: game playing (like AlphaGo), robotics.\n",
      "        *   **Model:** The trained algorithm becomes a \"model.\"  This model can then be used to make predictions or decisions on new data.\n",
      "        *   **Training:** The process of feeding data into the algorithm and adjusting its internal parameters to improve performance is called training.\n",
      "        *   **Evaluation:** The trained model is tested on a separate set of data to see how well it generalizes to new situations.\n",
      "\n",
      "2.  **Deep Learning (DL):** A subfield of machine learning that uses artificial neural networks with many layers (hence \"deep\").\n",
      "\n",
      "    *   **How it Works:**\n",
      "        *   **Neural Networks:** Inspired by the structure of the human brain. Consists of interconnected nodes (neurons) organized in layers.\n",
      "        *   **Layers:** Each layer extracts different features from the input data.  For example, in image recognition, the first layers might detect edges, the next layers might detect shapes, and the later layers might detect objects.\n",
      "        *   **Training:** Deep learning models require massive amounts of data and computational power to train.\n",
      "        *   **Advantages:**  Deep learning has achieved breakthroughs in image recognition, natural language processing, and other areas.  It can automatically learn complex features from raw data, reducing the need for manual feature engineering.\n",
      "\n",
      "3.  **Natural Language Processing (NLP):** Focuses on enabling computers to understand, interpret, and generate human language.\n",
      "\n",
      "    *   **How it Works:**\n",
      "        *   **Text Analysis:** Breaking down text into its components (words, sentences, etc.).\n",
      "        *   **Sentiment Analysis:**  Determining the emotional tone of a piece of text.\n",
      "        *   **Machine Translation:**  Automatically translating text from one language to another.\n",
      "        *   **Chatbots:**  Creating conversational agents that can interact with humans.\n",
      "        *   **Language Modeling:** Predicting the probability of a sequence of words.\n",
      "        *   **Techniques:** NLP uses a variety of techniques, including machine learning, deep learning, and rule-based systems.\n",
      "\n",
      "4.  **Computer Vision:** Enables computers to \"see\" and interpret images and videos.\n",
      "\n",
      "    *   **How it Works:**\n",
      "        *   **Image Recognition:** Identifying objects in images.\n",
      "        *   **Object Detection:** Locating objects in images.\n",
      "        *   **Image Segmentation:** Dividing an image into regions.\n",
      "        *   **Facial Recognition:** Identifying people in images.\n",
      "        *   **Applications:** Self-driving cars, medical imaging, security systems.\n",
      "\n",
      "5.  **Rule-Based Systems (Expert Systems):**  These are older AI techniques that rely on explicitly defined rules to make decisions.\n",
      "\n",
      "    *   **How it Works:**\n",
      "        *   **Knowledge Base:** A set of rules and facts about a specific domain.\n",
      "        *   **Inference Engine:**  Applies the rules to the facts to draw conclusions.\n",
      "        *   **Example:**  A medical diagnosis system that asks questions about symptoms and uses rules to determine the possible diseases.\n",
      "        *   **Limitations:**  Difficult to create and maintain for complex domains.  Not good at handling uncertainty or incomplete information.\n",
      "\n",
      "**The AI Development Process (Simplified)**\n",
      "\n",
      "1.  **Define the Problem:** Clearly identify the task you want the AI to perform.  What are the inputs and desired outputs?\n",
      "2.  **Gather Data:** Collect a large, relevant dataset. The quality and quantity of data are crucial for machine learning.\n",
      "3.  **Choose an Algorithm:** Select the appropriate algorithm based on the problem and the type of data.\n",
      "4.  **Train the Model:** Feed the data into the algorithm and train the model.  This involves adjusting the model's parameters to minimize errors.\n",
      "5.  **Evaluate the Model:** Test the trained model on a separate dataset to assess its performance.\n",
      "6.  **Deploy the Model:** Integrate the model into a real-world application.\n",
      "7.  **Monitor and Retrain:** Continuously monitor the model's performance and retrain it with new data to improve accuracy.\n",
      "\n",
      "**Important Considerations**\n",
      "\n",
      "*   **Bias:** AI models can inherit biases from the data they are trained on, leading to unfair or discriminatory outcomes.\n",
      "*   **Explainability:**  It can be difficult to understand why some AI models make the decisions they do (especially deep learning models).  This lack of transparency can be a problem in sensitive applications.\n",
      "*   **Ethics:**  AI raises important ethical questions about privacy, security, and the impact on jobs.\n",
      "*   **Computational Resources:** Training complex AI models can require significant computational power (GPUs, cloud computing).\n",
      "\n",
      "**In Summary**\n",
      "\n",
      "AI works by using algorithms and data to enable machines to perform tasks that typically require human intelligence.  Machine learning, especially deep learning, is a dominant approach, but other techniques like rule-based systems and NLP are also important. Building and deploying AI systems involves a process of defining the problem, gathering data, training a model, and evaluating its performance.  It's a complex and rapidly evolving field with tremendous potential but also important ethical considerations.\n",
      "\n"
     ]
    }
   ],
   "source": [
    "from google import genai\n",
    "\n",
    "client = genai.Client(api_key=os.getenv("GOOGLE_API_KEY")\n",
    "\n",
    "response = client.models.generate_content(\n",
    "    model=\"gemini-2.0-flash\",\n",
    "    contents=\"Explain how AI works\",\n",
    ")\n",
    "\n",
    "print(response.text)\n"
   ]
  },
  {
   "cell_type": "code",
   "execution_count": null,
   "metadata": {},
   "outputs": [],
   "source": []
  }
 ],
 "metadata": {
  "kernelspec": {
   "display_name": ".venv",
   "language": "python",
   "name": "python3"
  },
  "language_info": {
   "codemirror_mode": {
    "name": "ipython",
    "version": 3
   },
   "file_extension": ".py",
   "mimetype": "text/x-python",
   "name": "python",
   "nbconvert_exporter": "python",
   "pygments_lexer": "ipython3",
   "version": "3.10.11"
  }
 },
 "nbformat": 4,
 "nbformat_minor": 2
}
